{
 "cells": [
  {
   "cell_type": "code",
   "execution_count": 35,
   "id": "274a7b50",
   "metadata": {},
   "outputs": [],
   "source": [
    "# Aug 22 2021\n",
    "# Parsing previous microscope tests\n",
    "# Written by Svena Yu"
   ]
  },
  {
   "cell_type": "code",
   "execution_count": 36,
   "id": "17953b03",
   "metadata": {},
   "outputs": [],
   "source": [
    "import pandas as pd\n",
    "import numpy as np\n",
    "import matplotlib.pyplot as plt\n",
    "names = ['Item', 'Source', 'Radius', 'Diameter', 'NDT', 'NDZ', 'NDM', 'Comment', 'Unnamed']"
   ]
  },
  {
   "cell_type": "markdown",
   "id": "5d8e0c28",
   "metadata": {},
   "source": [
    "## Composition Test"
   ]
  },
  {
   "cell_type": "code",
   "execution_count": 45,
   "id": "8e208e2e",
   "metadata": {},
   "outputs": [],
   "source": [
    "LS406025_film = '406025LS_Film_9Aug2021_50x_measuringdata.txt'\n",
    "LS406025 = 'TBD'\n",
    "AL406025 = '406025AL_Diluted_Aug232021_usedforUVtestbyayako_50x_data.txt'\n",
    "LS307025 = '307025LC_diluted_50x_10Aug_data.txt'\n",
    "LS406025_29July = '40_60F_25_S_50x_diluted_290721_measuring_data.txt'\n",
    "ls406025_film_df = pd.read_csv(LS406025_film, encoding=\"utf16\", delimiter='\\t', names=names, skiprows=2)\n",
    "al406025_df = pd.read_csv(AL406025, encoding='utf16', delimiter='\\t', names=names, skiprows=2)\n",
    "ls307025_df = pd.read_csv(LS307025, encoding='utf16', delimiter='\\t', names=names, skiprows=2)\n",
    "ls406025_df = pd.read_csv(LS406025_29July, encoding='utf16', delimiter='\\t', names=names, skiprows=1)"
   ]
  },
  {
   "cell_type": "code",
   "execution_count": 49,
   "id": "240b5d95",
   "metadata": {},
   "outputs": [
    {
     "data": {
      "text/plain": [
       "<matplotlib.legend.Legend at 0x7f00cd69c278>"
      ]
     },
     "execution_count": 49,
     "metadata": {},
     "output_type": "execute_result"
    },
    {
     "data": {
      "image/png": "[encoded data removed]",
      "text/plain": [
       "<Figure size 936x720 with 3 Axes>"
      ]
     },
     "metadata": {
      "needs_background": "light"
     },
     "output_type": "display_data"
    }
   ],
   "source": [
    "def series_to_float(series):\n",
    "    return [ float(i) for i in series.values.tolist() ]\n",
    "\n",
    "def binfunc(data):\n",
    "    return np.arange(data.min(), data.max(), (data.max()-data.min())/100)\n",
    "\n",
    "fig1= plt.figure(figsize=(13,10))\n",
    "\n",
    "ax1 = plt.subplot(311)\n",
    "ls406025_film_df['Diameter'] = series_to_float(ls406025_film_df['Diameter'])\n",
    "ax1.hist(ls406025_film_df['Diameter'],bins=binfunc(ls406025_film_df['Diameter']))\n",
    "ax1.set_title('LS 406025 Film')\n",
    "\n",
    "ax2 = plt.subplot(312)\n",
    "al406025_df['Diameter'] = series_to_float(al406025_df['Diameter'])\n",
    "ax2.hist(al406025_df['Diameter'],bins=binfunc(al406025_df['Diameter']), label='AL 406025')\n",
    "ax2.hist(ls406025_df['Diameter'],bins=binfunc(ls406025_df['Diameter']), label='LS 406025')\n",
    "# ax2.hist(ls307025_df['Diameter'],bins=binfunc(ls307025_df['Diameter']))\n",
    "ax2.set_title('AL 406025 & LS 406025')\n",
    "plt.legend()\n",
    "\n",
    "ax3 = plt.subplot(313)\n",
    "ls307025_df['Diameter'] = series_to_float(ls307025_df['Diameter'])\n",
    "ax3.hist(ls307025_df['Diameter'],bins=binfunc(ls307025_df['Diameter']), label='LS 307025')\n",
    "ax3.hist(ls406025_df['Diameter'],bins=binfunc(ls406025_df['Diameter']), label='LS 406025')\n",
    "ax3.set_title('LS 406025 & LS 307025')\n",
    "plt.legend()"
   ]
  },
  {
   "cell_type": "code",
   "execution_count": 39,
   "id": "70986f78",
   "metadata": {},
   "outputs": [
    {
     "data": {
      "text/html": [
       "<div>\n",
       "<style scoped>\n",
       "    .dataframe tbody tr th:only-of-type {\n",
       "        vertical-align: middle;\n",
       "    }\n",
       "\n",
       "    .dataframe tbody tr th {\n",
       "        vertical-align: top;\n",
       "    }\n",
       "\n",
       "    .dataframe thead th {\n",
       "        text-align: right;\n",
       "    }\n",
       "</style>\n",
       "<table border=\"1\" class=\"dataframe\">\n",
       "  <thead>\n",
       "    <tr style=\"text-align: right;\">\n",
       "      <th></th>\n",
       "      <th></th>\n",
       "      <th>Area</th>\n",
       "      <th>Mean</th>\n",
       "      <th>Min</th>\n",
       "      <th>Max</th>\n",
       "    </tr>\n",
       "  </thead>\n",
       "  <tbody>\n",
       "    <tr>\n",
       "      <th>0</th>\n",
       "      <td>1</td>\n",
       "      <td>1.587499</td>\n",
       "      <td>28.235</td>\n",
       "      <td>13</td>\n",
       "      <td>50</td>\n",
       "    </tr>\n",
       "    <tr>\n",
       "      <th>1</th>\n",
       "      <td>2</td>\n",
       "      <td>1.256539</td>\n",
       "      <td>30.635</td>\n",
       "      <td>17</td>\n",
       "      <td>57</td>\n",
       "    </tr>\n",
       "    <tr>\n",
       "      <th>2</th>\n",
       "      <td>3</td>\n",
       "      <td>1.321321</td>\n",
       "      <td>31.983</td>\n",
       "      <td>16</td>\n",
       "      <td>60</td>\n",
       "    </tr>\n",
       "    <tr>\n",
       "      <th>3</th>\n",
       "      <td>4</td>\n",
       "      <td>1.900850</td>\n",
       "      <td>27.887</td>\n",
       "      <td>9</td>\n",
       "      <td>52</td>\n",
       "    </tr>\n",
       "    <tr>\n",
       "      <th>4</th>\n",
       "      <td>5</td>\n",
       "      <td>1.436908</td>\n",
       "      <td>31.757</td>\n",
       "      <td>15</td>\n",
       "      <td>52</td>\n",
       "    </tr>\n",
       "  </tbody>\n",
       "</table>\n",
       "</div>"
      ],
      "text/plain": [
       "          Area    Mean  Min  Max\n",
       "0  1  1.587499  28.235   13   50\n",
       "1  2  1.256539  30.635   17   57\n",
       "2  3  1.321321  31.983   16   60\n",
       "3  4  1.900850  27.887    9   52\n",
       "4  5  1.436908  31.757   15   52"
      ]
     },
     "execution_count": 39,
     "metadata": {},
     "output_type": "execute_result"
    }
   ],
   "source": [
    "df_40 = pd.read_csv('40_63x-3_dropletsize.csv', skiprows=2)\n",
    "scaling_40 = 348/38 #pixels/micrometer\n",
    "df_40['Area'] = np.sqrt(df_40['Area']*4/np.pi)/scaling_40 #in micrometers\n",
    "df_40.head()"
   ]
  },
  {
   "cell_type": "code",
   "execution_count": 41,
   "id": "f3911293",
   "metadata": {},
   "outputs": [
    {
     "data": {
      "text/plain": [
       "(array([1., 0., 0., 0., 0., 0., 0., 1., 0., 0., 0., 0., 0., 0., 0., 0., 1.,\n",
       "        0., 0., 0., 1., 0., 0., 0., 1., 0., 2., 1., 2., 2., 1., 1., 1., 1.,\n",
       "        2., 0., 1., 0., 0., 1., 0., 0., 0., 0., 1., 0., 0., 0., 0., 1., 0.,\n",
       "        0., 0., 0., 0., 0., 0., 1., 0., 1., 1., 0., 0., 0., 0., 0., 0., 0.,\n",
       "        0., 0., 0., 1., 0., 0., 0., 0., 0., 0., 0., 0., 2., 0., 0., 0., 0.,\n",
       "        0., 0., 0., 0., 0., 0., 0., 0., 0., 0., 0., 0., 0., 0.]),\n",
       " array([0.81  , 0.8283, 0.8466, 0.8649, 0.8832, 0.9015, 0.9198, 0.9381,\n",
       "        0.9564, 0.9747, 0.993 , 1.0113, 1.0296, 1.0479, 1.0662, 1.0845,\n",
       "        1.1028, 1.1211, 1.1394, 1.1577, 1.176 , 1.1943, 1.2126, 1.2309,\n",
       "        1.2492, 1.2675, 1.2858, 1.3041, 1.3224, 1.3407, 1.359 , 1.3773,\n",
       "        1.3956, 1.4139, 1.4322, 1.4505, 1.4688, 1.4871, 1.5054, 1.5237,\n",
       "        1.542 , 1.5603, 1.5786, 1.5969, 1.6152, 1.6335, 1.6518, 1.6701,\n",
       "        1.6884, 1.7067, 1.725 , 1.7433, 1.7616, 1.7799, 1.7982, 1.8165,\n",
       "        1.8348, 1.8531, 1.8714, 1.8897, 1.908 , 1.9263, 1.9446, 1.9629,\n",
       "        1.9812, 1.9995, 2.0178, 2.0361, 2.0544, 2.0727, 2.091 , 2.1093,\n",
       "        2.1276, 2.1459, 2.1642, 2.1825, 2.2008, 2.2191, 2.2374, 2.2557,\n",
       "        2.274 , 2.2923, 2.3106, 2.3289, 2.3472, 2.3655, 2.3838, 2.4021,\n",
       "        2.4204, 2.4387, 2.457 , 2.4753, 2.4936, 2.5119, 2.5302, 2.5485,\n",
       "        2.5668, 2.5851, 2.6034, 2.6217]),\n",
       " <BarContainer object of 99 artists>)"
      ]
     },
     "execution_count": 41,
     "metadata": {},
     "output_type": "execute_result"
    },
    {
     "data": {
      "image/png": "[encoded data removed]",
      "text/plain": [
       "<Figure size 720x576 with 1 Axes>"
      ]
     },
     "metadata": {
      "needs_background": "light"
     },
     "output_type": "display_data"
    }
   ],
   "source": [
    "fig2 = plt.figure(figsize=(10,8))\n",
    "plt.hist(df_40['Area'],bins=binfunc(df_40['Area']))\n",
    "plt.hist(ls307025_df['Diameter'],bins=binfunc(ls307025_df['Diameter']))"
   ]
  },
  {
   "cell_type": "markdown",
   "id": "19911b0f",
   "metadata": {},
   "source": [
    "## Ultrasonics Test"
   ]
  },
  {
   "cell_type": "code",
   "execution_count": null,
   "id": "8015d9fa",
   "metadata": {},
   "outputs": [],
   "source": [
    "tenpc = '505025LCLS_10%S_Aug192021_20x_data.txt'\n",
    "sixtypc = '505025LCLS_60%S_Aug192021_50x_data.txt'\n",
    "ten_df = pd.read_csv(tenpc, encoding=\"utf16\", delimiter='\\t', names=names, skiprows=2)\n",
    "sixty_df = pd.read_csv(sixtypc, encoding='utf16', delimiter='\\t', names=names, skiprows=1)\n",
    "dil_df = pd.read_csv('307025LC_diluted_50x_10Aug_data.txt', encoding='utf16', delimiter='\\t', names=names, skiprows=1)\n",
    "ten_df.head()\n",
    "sixty_df.head()\n",
    "dil_df.head()"
   ]
  },
  {
   "cell_type": "code",
   "execution_count": null,
   "id": "89ef2dab",
   "metadata": {},
   "outputs": [],
   "source": [
    "np.arange(0,10,1)"
   ]
  },
  {
   "cell_type": "code",
   "execution_count": null,
   "id": "f36ca22f",
   "metadata": {},
   "outputs": [],
   "source": [
    "ten_df_bins = np.arange(ten_df['Radius'].min(), ten_df['Radius'].max(), 0.2)\n",
    "sixty_df_bins = np.arange(sixty_df['Radius'].min(), sixty_df['Radius'].max(), 0.1)\n",
    "dil_df_bins = np.arange(dil_df['Radius'].min(), dil_df['Radius'].max(), 0.1)\n",
    "fig = plt.figure(figsize=(12,8))\n",
    "ax1 = plt.subplot(111)\n",
    "ax1.hist(ten_df['Diameter'], bins=ten_df_bins, label='After 10% Ultrasonication', alpha=0.8)\n",
    "ax1.hist(ten_df['Diameter'], bins=sixty_df_bins, label='After 60% Ultrasonication', alpha=0.9)\n",
    "ax1.hist(dil_df['Diameter'], bins=dil_df_bins, label='2min Ultrasonication', color='maroon')\n",
    "plt.title('Distribution of Droplet Size after Ultrasonication', fontsize=16)\n",
    "plt.legend(fontsize=13)\n",
    "plt.xlabel('Diameter (um)', fontsize=13)\n",
    "plt.ylabel('# Occurrences', fontsize=13)\n",
    "plt.savefig('dropletsize_distribution.png')"
   ]
  }
 ],
 "metadata": {
  "kernelspec": {
   "display_name": "Python 3 (ipykernel)",
   "language": "python",
   "name": "python3"
  },
  "language_info": {
   "codemirror_mode": {
    "name": "ipython",
    "version": 3
   },
   "file_extension": ".py",
   "mimetype": "text/x-python",
   "name": "python",
   "nbconvert_exporter": "python",
   "pygments_lexer": "ipython3",
   "version": "3.9.7"
  }
 },
 "nbformat": 4,
 "nbformat_minor": 5
}
