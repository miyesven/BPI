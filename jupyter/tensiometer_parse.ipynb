{
 "cells": [
  {
   "cell_type": "code",
   "execution_count": null,
   "id": "0c7bb804",
   "metadata": {},
   "outputs": [],
   "source": [
    "# Written to parse tensiometer tests conducted by Svena\n",
    "# Four IFT graphs and "
   ]
  },
  {
   "cell_type": "code",
   "execution_count": 1,
   "id": "fbe0011a",
   "metadata": {},
   "outputs": [],
   "source": [
    "import pandas as pd\n",
    "import numpy as np\n",
    "import matplotlib.pyplot as plt\n",
    "\n",
    "names = ['Time', 'ST', 'Volume'] # ST is in units of mN/m and Volume is in units of mu_l"
   ]
  },
  {
   "cell_type": "code",
   "execution_count": 3,
   "id": "c718f46e",
   "metadata": {},
   "outputs": [
    {
     "ename": "SyntaxError",
     "evalue": "unexpected character after line continuation character (Temp/ipykernel_1188/2442816401.py, line 1)",
     "output_type": "error",
     "traceback": [
      "\u001b[1;36m  File \u001b[1;32m\"C:\\Users\\Svena\\AppData\\Local\\Temp/ipykernel_1188/2442816401.py\"\u001b[1;36m, line \u001b[1;32m1\u001b[0m\n\u001b[1;33m    al_pla_df = pd.read_csv('TENSIOMETER/IFT/0.1AL in 0.1PLA, delimiter='\\t+')\u001b[0m\n\u001b[1;37m                                                                             ^\u001b[0m\n\u001b[1;31mSyntaxError\u001b[0m\u001b[1;31m:\u001b[0m unexpected character after line continuation character\n"
     ]
    }
   ],
   "source": [
    "al_pla_df = pd.read_csv('TENSIOMETER/IFT/0.1AL in 0.1PLA, delimiter='\\t+')\n",
    "al_clf_df = pd.read_csv('TENSIOMETER/IFT/0.1_AL in CLK')\n",
    "water_clf_df = pd.read_csv('TENSIOMETER/IFT/Water in CLF')\n",
    "water_pla_df = pd.read_csv('TENSIOMETER/IFT/Water in 0.1_PLA')\n",
    "al_pla_df.head()"
   ]
  }
 ],
 "metadata": {
  "kernelspec": {
   "display_name": "Python 3 (ipykernel)",
   "language": "python",
   "name": "python3"
  },
  "language_info": {
   "codemirror_mode": {
    "name": "ipython",
    "version": 3
   },
   "file_extension": ".py",
   "mimetype": "text/x-python",
   "name": "python",
   "nbconvert_exporter": "python",
   "pygments_lexer": "ipython3",
   "version": "3.9.7"
  }
 },
 "nbformat": 4,
 "nbformat_minor": 5
}
