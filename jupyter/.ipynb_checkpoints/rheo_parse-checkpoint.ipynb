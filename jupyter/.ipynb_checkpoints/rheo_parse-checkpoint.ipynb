{
 "cells": [
  {
   "cell_type": "code",
   "execution_count": 13,
   "id": "45c10ef4",
   "metadata": {},
   "outputs": [],
   "source": [
    "# Sept 11 2021\n",
    "# Written by Svena Yu\n",
    "# To parse rheometer data, collected by S.Yu and M.Kamkar"
   ]
  },
  {
   "cell_type": "code",
   "execution_count": 14,
   "id": "1534b6ea",
   "metadata": {},
   "outputs": [],
   "source": [
    "import pandas as pd\n",
    "import numpy as np\n",
    "import matplotlib.pyplot as plt\n",
    "flow_names = ['Item', 'Source', 'Radius', 'Diameter', 'NDT', 'NDZ', 'NDM', 'Comment', 'Unnamed']\n",
    "frsr_names = ['Point', 'ShearRate', 'ShearStress', 'Viscosity', 'Temp', 'Torque', 'Status']"
   ]
  },
  {
   "cell_type": "code",
   "execution_count": 15,
   "id": "12ce88ba",
   "metadata": {},
   "outputs": [],
   "source": [
    "flow = ['60-30-7_flow.txt', '90-35-7_flow.txt', 'PLA_flow.txt', 'lignin_flow.txt']\n",
    "freq = ['60-30-7_FR.txt', '90-35-7_FR.txt', 'PLA_FR.txt', 'lignin_FR.txt']\n",
    "strain = ['60-30-7_SR.txt', '90-35-7_SR.txt', 'PLA_SR.txt', 'lignin_SR.txt']\n",
    "lgpla60 = 0\n",
    "lgpla90 = 1\n",
    "pla = 2\n",
    "lg = 3\n",
    "reg_param_lgpla60 = [3.8682, 0.62311, 0.67351]\n",
    "reg_param_lgpla90 = [23.965, 7.2572, 0.6067]\n",
    "# using Hershel-Bulkley param fitting"
   ]
  },
  {
   "cell_type": "code",
   "execution_count": 17,
   "id": "f9ce8cbe",
   "metadata": {},
   "outputs": [
    {
     "name": "stdout",
     "output_type": "stream",
     "text": [
      "                                                 Item  Source  Radius  \\\n",
      "1.0 0.500 7.7765  15552.0 24.93 0.71064 Dy_auto   NaN     NaN       1   \n",
      "2.0 0.557 11.3570 20382.0 24.92 1.03780 Dy_auto   NaN     NaN       2   \n",
      "3.0 0.621 13.2110 21272.0 24.91 1.20720 Dy_auto   NaN     NaN       3   \n",
      "4.0 0.692 14.7530 21315.0 24.90 1.34810 Dy_auto   NaN     NaN       4   \n",
      "5.0 0.771 16.2250 21033.0 24.89 1.48270 Dy_auto   NaN     NaN       5   \n",
      "\n",
      "                                                 Diameter     NDT       NDZ  \\\n",
      "1.0 0.500 7.7765  15552.0 24.93 0.71064 Dy_auto     0.100  25.760  258000.0   \n",
      "2.0 0.557 11.3570 20382.0 24.92 1.03780 Dy_auto     0.107  25.838  241000.0   \n",
      "3.0 0.621 13.2110 21272.0 24.91 1.20720 Dy_auto     0.115  25.919  225000.0   \n",
      "4.0 0.692 14.7530 21315.0 24.90 1.34810 Dy_auto     0.123  26.003  211000.0   \n",
      "5.0 0.771 16.2250 21033.0 24.89 1.48270 Dy_auto     0.132  26.092  197000.0   \n",
      "\n",
      "                                                 NDM  Comment  Unnamed  \n",
      "1.0 0.500 7.7765  15552.0 24.93 0.71064 Dy_auto  NaN      NaN      NaN  \n",
      "2.0 0.557 11.3570 20382.0 24.92 1.03780 Dy_auto  NaN      NaN      NaN  \n",
      "3.0 0.621 13.2110 21272.0 24.91 1.20720 Dy_auto  NaN      NaN      NaN  \n",
      "4.0 0.692 14.7530 21315.0 24.90 1.34810 Dy_auto  NaN      NaN      NaN  \n",
      "5.0 0.771 16.2250 21033.0 24.89 1.48270 Dy_auto  NaN      NaN      NaN  \n"
     ]
    }
   ],
   "source": [
    "flow_df = []\n",
    "for datafile in flow:\n",
    "    flow_df.append(pd.read_csv(\"RHEO/\" + datafile, delimiter='\\t', names = flow_names, skiprows=3))\n",
    "    \n",
    "df = pd.read_csv(\"RHEO/\" + flow[0], delimiter='\\t', names = flow_names, skiprows=3)\n",
    "print(df.head())\n",
    "\n",
    "### TODO THIS IS WRONG??"
   ]
  }
 ],
 "metadata": {
  "kernelspec": {
   "display_name": "Python 3 (ipykernel)",
   "language": "python",
   "name": "python3"
  },
  "language_info": {
   "codemirror_mode": {
    "name": "ipython",
    "version": 3
   },
   "file_extension": ".py",
   "mimetype": "text/x-python",
   "name": "python",
   "nbconvert_exporter": "python",
   "pygments_lexer": "ipython3",
   "version": "3.9.7"
  }
 },
 "nbformat": 4,
 "nbformat_minor": 5
}
