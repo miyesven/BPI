{
 "cells": [
  {
   "cell_type": "code",
   "execution_count": 1,
   "id": "5da85b04",
   "metadata": {},
   "outputs": [],
   "source": [
    "# Purpose: Parse droplet distribution in confocal images, manually found\n",
    "# Written by Svena Yu, reference code from pyimagesearch.com\n",
    "# Aug 24 2021"
   ]
  },
  {
   "cell_type": "code",
   "execution_count": 1,
   "id": "0ff7ae83",
   "metadata": {},
   "outputs": [],
   "source": [
    "import pandas as pd\n",
    "import math\n",
    "import numpy as np\n",
    "import argparse\n",
    "import matplotlib.pyplot as plt"
   ]
  },
  {
   "cell_type": "code",
   "execution_count": 4,
   "id": "979472e5",
   "metadata": {},
   "outputs": [
    {
     "data": {
      "text/html": [
       "<div>\n",
       "<style scoped>\n",
       "    .dataframe tbody tr th:only-of-type {\n",
       "        vertical-align: middle;\n",
       "    }\n",
       "\n",
       "    .dataframe tbody tr th {\n",
       "        vertical-align: top;\n",
       "    }\n",
       "\n",
       "    .dataframe thead th {\n",
       "        text-align: right;\n",
       "    }\n",
       "</style>\n",
       "<table border=\"1\" class=\"dataframe\">\n",
       "  <thead>\n",
       "    <tr style=\"text-align: right;\">\n",
       "      <th></th>\n",
       "      <th></th>\n",
       "      <th>Area</th>\n",
       "      <th>Mean</th>\n",
       "      <th>Min</th>\n",
       "      <th>Max</th>\n",
       "    </tr>\n",
       "  </thead>\n",
       "  <tbody>\n",
       "    <tr>\n",
       "      <th>0</th>\n",
       "      <td>1</td>\n",
       "      <td>1.587499</td>\n",
       "      <td>28.235</td>\n",
       "      <td>13</td>\n",
       "      <td>50</td>\n",
       "    </tr>\n",
       "    <tr>\n",
       "      <th>1</th>\n",
       "      <td>2</td>\n",
       "      <td>1.256539</td>\n",
       "      <td>30.635</td>\n",
       "      <td>17</td>\n",
       "      <td>57</td>\n",
       "    </tr>\n",
       "    <tr>\n",
       "      <th>2</th>\n",
       "      <td>3</td>\n",
       "      <td>1.321321</td>\n",
       "      <td>31.983</td>\n",
       "      <td>16</td>\n",
       "      <td>60</td>\n",
       "    </tr>\n",
       "    <tr>\n",
       "      <th>3</th>\n",
       "      <td>4</td>\n",
       "      <td>1.900850</td>\n",
       "      <td>27.887</td>\n",
       "      <td>9</td>\n",
       "      <td>52</td>\n",
       "    </tr>\n",
       "    <tr>\n",
       "      <th>4</th>\n",
       "      <td>5</td>\n",
       "      <td>1.436908</td>\n",
       "      <td>31.757</td>\n",
       "      <td>15</td>\n",
       "      <td>52</td>\n",
       "    </tr>\n",
       "  </tbody>\n",
       "</table>\n",
       "</div>"
      ],
      "text/plain": [
       "          Area    Mean  Min  Max\n",
       "0  1  1.587499  28.235   13   50\n",
       "1  2  1.256539  30.635   17   57\n",
       "2  3  1.321321  31.983   16   60\n",
       "3  4  1.900850  27.887    9   52\n",
       "4  5  1.436908  31.757   15   52"
      ]
     },
     "execution_count": 4,
     "metadata": {},
     "output_type": "execute_result"
    }
   ],
   "source": [
    "df_40 = pd.read_csv('40_63x-3_dropletsize.csv', skiprows=2)\n",
    "scaling_40 = 348/38 #pixels/micrometer\n",
    "df_40['Area'] = np.sqrt(df_40['Area']*4/np.pi)/scaling_40 #in micrometers\n",
    "df_40.head()"
   ]
  },
  {
   "cell_type": "code",
   "execution_count": 5,
   "id": "f7cb41f0",
   "metadata": {},
   "outputs": [
    {
     "data": {
      "text/html": [
       "<div>\n",
       "<style scoped>\n",
       "    .dataframe tbody tr th:only-of-type {\n",
       "        vertical-align: middle;\n",
       "    }\n",
       "\n",
       "    .dataframe tbody tr th {\n",
       "        vertical-align: top;\n",
       "    }\n",
       "\n",
       "    .dataframe thead th {\n",
       "        text-align: right;\n",
       "    }\n",
       "</style>\n",
       "<table border=\"1\" class=\"dataframe\">\n",
       "  <thead>\n",
       "    <tr style=\"text-align: right;\">\n",
       "      <th></th>\n",
       "      <th></th>\n",
       "      <th>Area</th>\n",
       "      <th>Mean</th>\n",
       "      <th>Min</th>\n",
       "      <th>Max</th>\n",
       "    </tr>\n",
       "  </thead>\n",
       "  <tbody>\n",
       "    <tr>\n",
       "      <th>0</th>\n",
       "      <td>1</td>\n",
       "      <td>2.650235</td>\n",
       "      <td>25.970</td>\n",
       "      <td>18</td>\n",
       "      <td>38</td>\n",
       "    </tr>\n",
       "    <tr>\n",
       "      <th>1</th>\n",
       "      <td>2</td>\n",
       "      <td>2.499988</td>\n",
       "      <td>28.533</td>\n",
       "      <td>19</td>\n",
       "      <td>49</td>\n",
       "    </tr>\n",
       "    <tr>\n",
       "      <th>2</th>\n",
       "      <td>3</td>\n",
       "      <td>2.262521</td>\n",
       "      <td>24.942</td>\n",
       "      <td>19</td>\n",
       "      <td>33</td>\n",
       "    </tr>\n",
       "    <tr>\n",
       "      <th>3</th>\n",
       "      <td>4</td>\n",
       "      <td>2.499988</td>\n",
       "      <td>26.910</td>\n",
       "      <td>20</td>\n",
       "      <td>37</td>\n",
       "    </tr>\n",
       "    <tr>\n",
       "      <th>4</th>\n",
       "      <td>5</td>\n",
       "      <td>1.845997</td>\n",
       "      <td>27.127</td>\n",
       "      <td>20</td>\n",
       "      <td>35</td>\n",
       "    </tr>\n",
       "  </tbody>\n",
       "</table>\n",
       "</div>"
      ],
      "text/plain": [
       "          Area    Mean  Min  Max\n",
       "0  1  2.650235  25.970   18   38\n",
       "1  2  2.499988  28.533   19   49\n",
       "2  3  2.262521  24.942   19   33\n",
       "3  4  2.499988  26.910   20   37\n",
       "4  5  1.845997  27.127   20   35"
      ]
     },
     "execution_count": 5,
     "metadata": {},
     "output_type": "execute_result"
    }
   ],
   "source": [
    "df_50 = pd.read_csv('50_63x-2_dropletsize.csv', skiprows=2)\n",
    "scaling_50 = 111/12 #pixels/micrometer\n",
    "df_50['Area'] = np.sqrt(df_50['Area']*4/np.pi)/scaling_50 #in micrometers\n",
    "df_50.head()"
   ]
  },
  {
   "cell_type": "code",
   "execution_count": 12,
   "id": "9b677e3b",
   "metadata": {},
   "outputs": [
    {
     "data": {
      "text/plain": [
       "Text(0.5, 0, 'Diameter (micrometer)')"
      ]
     },
     "execution_count": 12,
     "metadata": {},
     "output_type": "execute_result"
    },
    {
     "data": {
      "image/png": "[encoded data removed]",
      "text/plain": [
       "<Figure size 864x720 with 2 Axes>"
      ]
     },
     "metadata": {
      "needs_background": "light"
     },
     "output_type": "display_data"
    }
   ],
   "source": [
    "def binfunc(data):\n",
    "    return np.arange(data.min(), data.max(), (data.max()-data.min())/100)\n",
    "fig1= plt.figure(figsize=(12,10))\n",
    "ax1 = plt.subplot(211)\n",
    "ax1.hist(df_40['Area'],bins=binfunc(df_40['Area']))\n",
    "ax1.set_title('307040LS, 40% water, ~0.05% SC, 63x mag Confocal')\n",
    "ax1.set_xlabel('Diameter (micrometer)')\n",
    "ax2 = plt.subplot(212)\n",
    "ax2.hist(df_50['Area'],bins=binfunc(df_50['Area']))\n",
    "ax2.set_title('406050LS, 50% water, ~0.05% SC, 63x mag Confocal')\n",
    "ax2.set_xlabel('Diameter (micrometer)')"
   ]
  }
 ],
 "metadata": {
  "kernelspec": {
   "display_name": "Python 3",
   "language": "python",
   "name": "python3"
  },
  "language_info": {
   "codemirror_mode": {
    "name": "ipython",
    "version": 3
   },
   "file_extension": ".py",
   "mimetype": "text/x-python",
   "name": "python",
   "nbconvert_exporter": "python",
   "pygments_lexer": "ipython3",
   "version": "3.6.9"
  }
 },
 "nbformat": 4,
 "nbformat_minor": 5
}
